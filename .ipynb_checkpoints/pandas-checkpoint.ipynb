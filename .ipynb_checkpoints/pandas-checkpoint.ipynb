{
 "cells": [
  {
   "cell_type": "code",
   "execution_count": 3,
   "id": "e6a6b450-7e77-4a92-8680-f0aaca3ac73f",
   "metadata": {},
   "outputs": [
    {
     "name": "stdout",
     "output_type": "stream",
     "text": [
      "Pandas Series: Series([], dtype: object)\n",
      "Pandas Series:\n",
      " ['g' 'e' 'r' 'f' 'c' 's' 'a']\n"
     ]
    }
   ],
   "source": [
    "#pandas series\n",
    "\n",
    "import pandas as pd\n",
    "import numpy as np\n",
    "\n",
    "ser =pd.Series()\n",
    "print(\"Pandas Series:\",ser)\n",
    "\n",
    "data =np.array(['g','e','r','f','c','s','a'])\n",
    "ser =pd.Series(data)\n",
    "print(\"Pandas Series:\\n\",ser)\n"
   ]
  },
  {
   "cell_type": "code",
   "execution_count": 4,
   "id": "3499e38b-12f2-4058-8a91-66df686fd562",
   "metadata": {},
   "outputs": [
    {
     "name": "stdout",
     "output_type": "stream",
     "text": [
      "Empty DataFrame\n",
      "Columns: []\n",
      "Index: []\n",
      "   0\n",
      "0  g\n",
      "1  u\n",
      "2  k\n",
      "3  j\n",
      "4  r\n",
      "5  d\n",
      "6  f\n"
     ]
    }
   ],
   "source": [
    "import pandas as pd\n",
    "df =pd.DataFrame()\n",
    "print(df)\n",
    "lst =['g','u','k','j','r','d','f']\n",
    "df =pd.DataFrame(lst)\n",
    "print(df)"
   ]
  },
  {
   "cell_type": "code",
   "execution_count": null,
   "id": "5a787f55-c575-45ba-83fd-da089a0c609f",
   "metadata": {},
   "outputs": [],
   "source": []
  }
 ],
 "metadata": {
  "kernelspec": {
   "display_name": "Python 3 (ipykernel)",
   "language": "python",
   "name": "python3"
  },
  "language_info": {
   "codemirror_mode": {
    "name": "ipython",
    "version": 3
   },
   "file_extension": ".py",
   "mimetype": "text/x-python",
   "name": "python",
   "nbconvert_exporter": "python",
   "pygments_lexer": "ipython3",
   "version": "3.12.1"
  }
 },
 "nbformat": 4,
 "nbformat_minor": 5
}
