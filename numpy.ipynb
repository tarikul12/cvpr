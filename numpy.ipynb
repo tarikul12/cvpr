{
 "cells": [
  {
   "cell_type": "code",
   "execution_count": 2,
   "id": "b0cf7b7b-615d-4684-90cc-64987e4c4405",
   "metadata": {},
   "outputs": [],
   "source": [
    "import numpy as np"
   ]
  },
  {
   "cell_type": "code",
   "execution_count": 3,
   "id": "ea1af0ca-a560-4fc9-b3fc-c36a21d5a890",
   "metadata": {},
   "outputs": [
    {
     "name": "stdout",
     "output_type": "stream",
     "text": [
      "Hi Tanzim\n"
     ]
    }
   ],
   "source": [
    "print(\"Hi Tanzim\")"
   ]
  },
  {
   "cell_type": "code",
   "execution_count": null,
   "id": "e57d7f62-9e51-4f3b-a3e2-f818ee29c61e",
   "metadata": {},
   "outputs": [],
   "source": []
  }
 ],
 "metadata": {
  "kernelspec": {
   "display_name": "Python 3 (ipykernel)",
   "language": "python",
   "name": "python3"
  },
  "language_info": {
   "codemirror_mode": {
    "name": "ipython",
    "version": 3
   },
   "file_extension": ".py",
   "mimetype": "text/x-python",
   "name": "python",
   "nbconvert_exporter": "python",
   "pygments_lexer": "ipython3",
   "version": "3.11.4"
  }
 },
 "nbformat": 4,
 "nbformat_minor": 5
}
